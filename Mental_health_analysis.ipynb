{
  "metadata": {
    "kernelspec": {
      "language": "python",
      "display_name": "Python 3",
      "name": "python3"
    },
    "language_info": {
      "name": "python",
      "version": "3.10.13",
      "mimetype": "text/x-python",
      "codemirror_mode": {
        "name": "ipython",
        "version": 3
      },
      "pygments_lexer": "ipython3",
      "nbconvert_exporter": "python",
      "file_extension": ".py"
    },
    "kaggle": {
      "accelerator": "none",
      "dataSources": [
        {
          "sourceId": 7872606,
          "sourceType": "datasetVersion",
          "datasetId": 4619539
        }
      ],
      "dockerImageVersionId": 30698,
      "isInternetEnabled": true,
      "language": "python",
      "sourceType": "notebook",
      "isGpuEnabled": false
    },
    "colab": {
      "provenance": []
    }
  },
  "nbformat_minor": 0,
  "nbformat": 4,
  "cells": [
    {
      "source": [
        "\n",
        "# IMPORTANT: RUN THIS CELL IN ORDER TO IMPORT YOUR KAGGLE DATA SOURCES\n",
        "# TO THE CORRECT LOCATION (/kaggle/input) IN YOUR NOTEBOOK,\n",
        "# THEN FEEL FREE TO DELETE THIS CELL.\n",
        "# NOTE: THIS NOTEBOOK ENVIRONMENT DIFFERS FROM KAGGLE'S PYTHON\n",
        "# ENVIRONMENT SO THERE MAY BE MISSING LIBRARIES USED BY YOUR\n",
        "# NOTEBOOK.\n",
        "\n",
        "import os\n",
        "import sys\n",
        "from tempfile import NamedTemporaryFile\n",
        "from urllib.request import urlopen\n",
        "from urllib.parse import unquote, urlparse\n",
        "from urllib.error import HTTPError\n",
        "from zipfile import ZipFile\n",
        "import tarfile\n",
        "import shutil\n",
        "\n",
        "CHUNK_SIZE = 40960\n",
        "DATA_SOURCE_MAPPING = 'mental-health-dataset:https%3A%2F%2Fstorage.googleapis.com%2Fkaggle-data-sets%2F4619539%2F7872606%2Fbundle%2Farchive.zip%3FX-Goog-Algorithm%3DGOOG4-RSA-SHA256%26X-Goog-Credential%3Dgcp-kaggle-com%2540kaggle-161607.iam.gserviceaccount.com%252F20240821%252Fauto%252Fstorage%252Fgoog4_request%26X-Goog-Date%3D20240821T114159Z%26X-Goog-Expires%3D259200%26X-Goog-SignedHeaders%3Dhost%26X-Goog-Signature%3D1327439b1efb0cc59c8e68ce357df55bda530d66c06a29a48c058c1016557bed915592a89dbd385e56554da777a2dae056ccb17a4c83709b3b8f156d85379ce7c6a811e2473987636fcc9b6b7b3a9c86c02efa3c6d55f86e8c6aacb48ee54ba992e4e923d287384437d6bbbe97dda57ab9e58db4355f6e539afd79e773ebec973e52ab17dbd87a8e082d7d4326d8a88d9e713fee55dfdece930e2e4c09e7aea21c225478e8b3012711ebc6870a985499581b76e64f3c59a2317507623f46cd569436261d04e1a1d1b53e4f7a49fdd144bdbace38f185d7cb452ccdadcb840778e39520999aa35556fa9fa1e6eff5e9c6ea0c279165103d7a08bd22ccbe7197bb'\n",
        "\n",
        "KAGGLE_INPUT_PATH='/kaggle/input'\n",
        "KAGGLE_WORKING_PATH='/kaggle/working'\n",
        "KAGGLE_SYMLINK='kaggle'\n",
        "\n",
        "!umount /kaggle/input/ 2> /dev/null\n",
        "shutil.rmtree('/kaggle/input', ignore_errors=True)\n",
        "os.makedirs(KAGGLE_INPUT_PATH, 0o777, exist_ok=True)\n",
        "os.makedirs(KAGGLE_WORKING_PATH, 0o777, exist_ok=True)\n",
        "\n",
        "try:\n",
        "  os.symlink(KAGGLE_INPUT_PATH, os.path.join(\"..\", 'input'), target_is_directory=True)\n",
        "except FileExistsError:\n",
        "  pass\n",
        "try:\n",
        "  os.symlink(KAGGLE_WORKING_PATH, os.path.join(\"..\", 'working'), target_is_directory=True)\n",
        "except FileExistsError:\n",
        "  pass\n",
        "\n",
        "for data_source_mapping in DATA_SOURCE_MAPPING.split(','):\n",
        "    directory, download_url_encoded = data_source_mapping.split(':')\n",
        "    download_url = unquote(download_url_encoded)\n",
        "    filename = urlparse(download_url).path\n",
        "    destination_path = os.path.join(KAGGLE_INPUT_PATH, directory)\n",
        "    try:\n",
        "        with urlopen(download_url) as fileres, NamedTemporaryFile() as tfile:\n",
        "            total_length = fileres.headers['content-length']\n",
        "            print(f'Downloading {directory}, {total_length} bytes compressed')\n",
        "            dl = 0\n",
        "            data = fileres.read(CHUNK_SIZE)\n",
        "            while len(data) > 0:\n",
        "                dl += len(data)\n",
        "                tfile.write(data)\n",
        "                done = int(50 * dl / int(total_length))\n",
        "                sys.stdout.write(f\"\\r[{'=' * done}{' ' * (50-done)}] {dl} bytes downloaded\")\n",
        "                sys.stdout.flush()\n",
        "                data = fileres.read(CHUNK_SIZE)\n",
        "            if filename.endswith('.zip'):\n",
        "              with ZipFile(tfile) as zfile:\n",
        "                zfile.extractall(destination_path)\n",
        "            else:\n",
        "              with tarfile.open(tfile.name) as tarfile:\n",
        "                tarfile.extractall(destination_path)\n",
        "            print(f'\\nDownloaded and uncompressed: {directory}')\n",
        "    except HTTPError as e:\n",
        "        print(f'Failed to load (likely expired) {download_url} to path {destination_path}')\n",
        "        continue\n",
        "    except OSError as e:\n",
        "        print(f'Failed to load {download_url} to path {destination_path}')\n",
        "        continue\n",
        "\n",
        "print('Data source import complete.')\n"
      ],
      "metadata": {
        "id": "qmWYCJ5TvnDH"
      },
      "cell_type": "code",
      "outputs": [],
      "execution_count": null
    },
    {
      "cell_type": "code",
      "source": [
        "# This Python 3 environment comes with many helpful analytics libraries installed\n",
        "# It is defined by the kaggle/python Docker image: https://github.com/kaggle/docker-python\n",
        "# For example, here's several helpful packages to load\n",
        "\n",
        "import numpy as np # linear algebra\n",
        "import pandas as pd # data processing, CSV file I/O (e.g. pd.read_csv)\n",
        "\n",
        "# Input data files are available in the read-only \"../input/\" directory\n",
        "# For example, running this (by clicking run or pressing Shift+Enter) will list all files under the input directory\n",
        "\n",
        "import os\n",
        "for dirname, _, filenames in os.walk('/kaggle/input'):\n",
        "    for filename in filenames:\n",
        "        print(os.path.join(dirname, filename))\n",
        "\n",
        "# You can write up to 20GB to the current directory (/kaggle/working/) that gets preserved as output when you create a version using \"Save & Run All\"\n",
        "# You can also write temporary files to /kaggle/temp/, but they won't be saved outside of the current session"
      ],
      "metadata": {
        "_uuid": "8f2839f25d086af736a60e9eeb907d3b93b6e0e5",
        "_cell_guid": "b1076dfc-b9ad-4769-8c92-a6c4dae69d19",
        "execution": {
          "iopub.status.busy": "2024-05-07T21:08:59.267437Z",
          "iopub.execute_input": "2024-05-07T21:08:59.267874Z",
          "iopub.status.idle": "2024-05-07T21:08:59.278495Z",
          "shell.execute_reply.started": "2024-05-07T21:08:59.267842Z",
          "shell.execute_reply": "2024-05-07T21:08:59.277518Z"
        },
        "trusted": true,
        "id": "a5j2KD8HvnDM"
      },
      "execution_count": null,
      "outputs": []
    },
    {
      "cell_type": "code",
      "source": [
        "import matplotlib.pyplot as plt\n",
        "import seaborn as sns\n",
        "from sklearn.preprocessing import MinMaxScaler\n",
        "from sklearn.model_selection import train_test_split\n",
        "from sklearn.metrics import*\n",
        "import tensorflow as tf\n",
        "from tensorflow import keras"
      ],
      "metadata": {
        "execution": {
          "iopub.status.busy": "2024-05-07T21:09:09.430526Z",
          "iopub.execute_input": "2024-05-07T21:09:09.43092Z",
          "iopub.status.idle": "2024-05-07T21:09:09.439266Z",
          "shell.execute_reply.started": "2024-05-07T21:09:09.430892Z",
          "shell.execute_reply": "2024-05-07T21:09:09.437302Z"
        },
        "trusted": true,
        "id": "MaiLtkoJvnDN"
      },
      "execution_count": null,
      "outputs": []
    },
    {
      "cell_type": "code",
      "source": [
        "df = pd.read_csv(\"/kaggle/input/mental-health-dataset/Mental Health Dataset.csv\")\n",
        "df.head()"
      ],
      "metadata": {
        "execution": {
          "iopub.status.busy": "2024-05-07T21:09:13.759013Z",
          "iopub.execute_input": "2024-05-07T21:09:13.759514Z",
          "iopub.status.idle": "2024-05-07T21:09:14.703411Z",
          "shell.execute_reply.started": "2024-05-07T21:09:13.759478Z",
          "shell.execute_reply": "2024-05-07T21:09:14.701945Z"
        },
        "trusted": true,
        "id": "0jr65drivnDN"
      },
      "execution_count": null,
      "outputs": []
    },
    {
      "cell_type": "code",
      "source": [
        "df.info()"
      ],
      "metadata": {
        "execution": {
          "iopub.status.busy": "2024-05-07T21:09:24.280337Z",
          "iopub.execute_input": "2024-05-07T21:09:24.280799Z",
          "iopub.status.idle": "2024-05-07T21:09:24.829311Z",
          "shell.execute_reply.started": "2024-05-07T21:09:24.280768Z",
          "shell.execute_reply": "2024-05-07T21:09:24.82796Z"
        },
        "trusted": true,
        "id": "GgT2LBAXvnDO"
      },
      "execution_count": null,
      "outputs": []
    },
    {
      "cell_type": "code",
      "source": [
        "df.describe()"
      ],
      "metadata": {
        "execution": {
          "iopub.status.busy": "2024-05-07T21:09:30.911647Z",
          "iopub.execute_input": "2024-05-07T21:09:30.912091Z",
          "iopub.status.idle": "2024-05-07T21:09:32.383301Z",
          "shell.execute_reply.started": "2024-05-07T21:09:30.912061Z",
          "shell.execute_reply": "2024-05-07T21:09:32.382205Z"
        },
        "trusted": true,
        "id": "X2x-bgf8vnDO"
      },
      "execution_count": null,
      "outputs": []
    },
    {
      "cell_type": "code",
      "source": [
        "df.shape"
      ],
      "metadata": {
        "execution": {
          "iopub.status.busy": "2024-05-07T21:09:45.276224Z",
          "iopub.execute_input": "2024-05-07T21:09:45.276713Z",
          "iopub.status.idle": "2024-05-07T21:09:45.285334Z",
          "shell.execute_reply.started": "2024-05-07T21:09:45.27668Z",
          "shell.execute_reply": "2024-05-07T21:09:45.283833Z"
        },
        "trusted": true,
        "id": "n0TPGog1vnDO"
      },
      "execution_count": null,
      "outputs": []
    },
    {
      "cell_type": "code",
      "source": [
        "df.dtypes"
      ],
      "metadata": {
        "execution": {
          "iopub.status.busy": "2024-05-07T21:09:57.013879Z",
          "iopub.execute_input": "2024-05-07T21:09:57.014288Z",
          "iopub.status.idle": "2024-05-07T21:09:57.024777Z",
          "shell.execute_reply.started": "2024-05-07T21:09:57.014259Z",
          "shell.execute_reply": "2024-05-07T21:09:57.023389Z"
        },
        "trusted": true,
        "id": "BvYoOGsjvnDP"
      },
      "execution_count": null,
      "outputs": []
    },
    {
      "cell_type": "code",
      "source": [
        "df.isna().sum()"
      ],
      "metadata": {
        "execution": {
          "iopub.status.busy": "2024-05-07T21:10:10.36716Z",
          "iopub.execute_input": "2024-05-07T21:10:10.367576Z",
          "iopub.status.idle": "2024-05-07T21:10:10.906679Z",
          "shell.execute_reply.started": "2024-05-07T21:10:10.367546Z",
          "shell.execute_reply": "2024-05-07T21:10:10.905324Z"
        },
        "trusted": true,
        "id": "Fw4dYch1vnDP"
      },
      "execution_count": null,
      "outputs": []
    },
    {
      "cell_type": "code",
      "source": [
        "df = df.dropna()"
      ],
      "metadata": {
        "execution": {
          "iopub.status.busy": "2024-05-07T21:10:24.365888Z",
          "iopub.execute_input": "2024-05-07T21:10:24.366285Z",
          "iopub.status.idle": "2024-05-07T21:10:24.977832Z",
          "shell.execute_reply.started": "2024-05-07T21:10:24.366258Z",
          "shell.execute_reply": "2024-05-07T21:10:24.976543Z"
        },
        "trusted": true,
        "id": "UaiGPBJJvnDQ"
      },
      "execution_count": null,
      "outputs": []
    },
    {
      "cell_type": "code",
      "source": [
        "df.isna().sum()"
      ],
      "metadata": {
        "execution": {
          "iopub.status.busy": "2024-05-07T21:10:31.758472Z",
          "iopub.execute_input": "2024-05-07T21:10:31.758911Z",
          "iopub.status.idle": "2024-05-07T21:10:32.294526Z",
          "shell.execute_reply.started": "2024-05-07T21:10:31.75888Z",
          "shell.execute_reply": "2024-05-07T21:10:32.293221Z"
        },
        "trusted": true,
        "id": "OYBctRdSvnDQ"
      },
      "execution_count": null,
      "outputs": []
    },
    {
      "cell_type": "code",
      "source": [
        "from sklearn.preprocessing import LabelEncoder"
      ],
      "metadata": {
        "execution": {
          "iopub.status.busy": "2024-05-07T21:10:42.248223Z",
          "iopub.execute_input": "2024-05-07T21:10:42.248665Z",
          "iopub.status.idle": "2024-05-07T21:10:42.254395Z",
          "shell.execute_reply.started": "2024-05-07T21:10:42.248636Z",
          "shell.execute_reply": "2024-05-07T21:10:42.253451Z"
        },
        "trusted": true,
        "id": "g2prS4DTvnDQ"
      },
      "execution_count": null,
      "outputs": []
    },
    {
      "cell_type": "code",
      "source": [
        "df[\"Gender\"] = LabelEncoder().fit_transform(df[\"Gender\"])\n",
        "df[\"self_employed\"] = LabelEncoder().fit_transform(df[\"self_employed\"])\n",
        "df[\"family_history\"] = LabelEncoder().fit_transform(df[\"family_history\"])\n",
        "df[\"treatment\"] = LabelEncoder().fit_transform(df[\"treatment\"])\n",
        "df[\"Growing_Stress\"] = LabelEncoder().fit_transform(df[\"Growing_Stress\"])\n",
        "df[\"Coping_Struggles\"] = LabelEncoder().fit_transform(df[\"Coping_Struggles\"])\n",
        "df"
      ],
      "metadata": {
        "execution": {
          "iopub.status.busy": "2024-05-07T21:10:47.56621Z",
          "iopub.execute_input": "2024-05-07T21:10:47.566606Z",
          "iopub.status.idle": "2024-05-07T21:10:48.079079Z",
          "shell.execute_reply.started": "2024-05-07T21:10:47.566576Z",
          "shell.execute_reply": "2024-05-07T21:10:48.077861Z"
        },
        "trusted": true,
        "id": "JKDGuSBtvnDR"
      },
      "execution_count": null,
      "outputs": []
    },
    {
      "cell_type": "code",
      "source": [
        "def countsplot(category):\n",
        "    sns.countplot(data = df, x = category)\n",
        "    plt.ylabel(\"Count\")\n",
        "    plt.title(f\"{category} distribution\")\n",
        "    plt.show()"
      ],
      "metadata": {
        "execution": {
          "iopub.status.busy": "2024-05-07T21:11:03.168574Z",
          "iopub.execute_input": "2024-05-07T21:11:03.169013Z",
          "iopub.status.idle": "2024-05-07T21:11:03.177674Z",
          "shell.execute_reply.started": "2024-05-07T21:11:03.168983Z",
          "shell.execute_reply": "2024-05-07T21:11:03.17619Z"
        },
        "trusted": true,
        "id": "16bfvpuAvnDR"
      },
      "execution_count": null,
      "outputs": []
    },
    {
      "cell_type": "code",
      "source": [
        "countsplot(\"self_employed\")"
      ],
      "metadata": {
        "execution": {
          "iopub.status.busy": "2024-05-07T21:11:07.397967Z",
          "iopub.execute_input": "2024-05-07T21:11:07.398359Z",
          "iopub.status.idle": "2024-05-07T21:11:07.664969Z",
          "shell.execute_reply.started": "2024-05-07T21:11:07.398332Z",
          "shell.execute_reply": "2024-05-07T21:11:07.663715Z"
        },
        "trusted": true,
        "id": "4Ue8vXCNvnDR"
      },
      "execution_count": null,
      "outputs": []
    },
    {
      "cell_type": "code",
      "source": [
        "countsplot(\"Gender\")"
      ],
      "metadata": {
        "execution": {
          "iopub.status.busy": "2024-05-07T21:11:14.167716Z",
          "iopub.execute_input": "2024-05-07T21:11:14.168107Z",
          "iopub.status.idle": "2024-05-07T21:11:14.413772Z",
          "shell.execute_reply.started": "2024-05-07T21:11:14.168079Z",
          "shell.execute_reply": "2024-05-07T21:11:14.411807Z"
        },
        "trusted": true,
        "id": "2D6VURPjvnDR"
      },
      "execution_count": null,
      "outputs": []
    },
    {
      "cell_type": "code",
      "source": [
        "countsplot(\"treatment\")"
      ],
      "metadata": {
        "execution": {
          "iopub.status.busy": "2024-05-07T21:11:20.085998Z",
          "iopub.execute_input": "2024-05-07T21:11:20.086409Z",
          "iopub.status.idle": "2024-05-07T21:11:20.351474Z",
          "shell.execute_reply.started": "2024-05-07T21:11:20.086378Z",
          "shell.execute_reply": "2024-05-07T21:11:20.350237Z"
        },
        "trusted": true,
        "id": "kE7F_gJ_vnDR"
      },
      "execution_count": null,
      "outputs": []
    },
    {
      "cell_type": "code",
      "source": [
        "countsplot(\"family_history\")"
      ],
      "metadata": {
        "execution": {
          "iopub.status.busy": "2024-05-07T21:11:26.638335Z",
          "iopub.execute_input": "2024-05-07T21:11:26.638743Z",
          "iopub.status.idle": "2024-05-07T21:11:26.918427Z",
          "shell.execute_reply.started": "2024-05-07T21:11:26.638713Z",
          "shell.execute_reply": "2024-05-07T21:11:26.917109Z"
        },
        "trusted": true,
        "id": "n99R96l4vnDR"
      },
      "execution_count": null,
      "outputs": []
    },
    {
      "cell_type": "code",
      "source": [
        "gender_data = (\n",
        "    df\n",
        "    .groupby(\"Gender\")[\"Occupation\"]\n",
        "    .value_counts()\n",
        "    .reset_index(name = \"Count\")\n",
        "    .sort_values(by = \"Count\", ascending = False)\n",
        ")\n",
        "\n",
        "sns.barplot(data = gender_data, x = \"Occupation\", y = \"Count\", hue = \"Gender\")\n",
        "plt.title(\"Occupation by Gender\")\n",
        "plt.show()"
      ],
      "metadata": {
        "execution": {
          "iopub.status.busy": "2024-05-07T21:11:34.397897Z",
          "iopub.execute_input": "2024-05-07T21:11:34.398349Z",
          "iopub.status.idle": "2024-05-07T21:11:34.77713Z",
          "shell.execute_reply.started": "2024-05-07T21:11:34.398317Z",
          "shell.execute_reply": "2024-05-07T21:11:34.775965Z"
        },
        "trusted": true,
        "id": "HSXegniYvnDS"
      },
      "execution_count": null,
      "outputs": []
    },
    {
      "cell_type": "code",
      "source": [
        "student_data = gender_data[gender_data[\"Occupation\"] == \"Student\"]\n",
        "\n",
        "sns.barplot(data = student_data, x = \"Occupation\", y = \"Count\", hue = \"Gender\")\n",
        "plt.title(\"Students Struggling with Mental Health\")\n",
        "plt.show()"
      ],
      "metadata": {
        "execution": {
          "iopub.status.busy": "2024-05-07T21:11:42.008189Z",
          "iopub.execute_input": "2024-05-07T21:11:42.008567Z",
          "iopub.status.idle": "2024-05-07T21:11:42.284501Z",
          "shell.execute_reply.started": "2024-05-07T21:11:42.008538Z",
          "shell.execute_reply": "2024-05-07T21:11:42.283592Z"
        },
        "trusted": true,
        "id": "PQPJ46dbvnDS"
      },
      "execution_count": null,
      "outputs": []
    },
    {
      "cell_type": "code",
      "source": [
        "le = LabelEncoder()\n",
        "encoded_df = df.apply(le.fit_transform)\n",
        "encoded_df.head()"
      ],
      "metadata": {
        "execution": {
          "iopub.status.busy": "2024-05-07T21:11:58.406302Z",
          "iopub.execute_input": "2024-05-07T21:11:58.406686Z",
          "iopub.status.idle": "2024-05-07T21:11:59.425175Z",
          "shell.execute_reply.started": "2024-05-07T21:11:58.406658Z",
          "shell.execute_reply": "2024-05-07T21:11:59.423781Z"
        },
        "trusted": true,
        "id": "0z1xQRRrvnDS"
      },
      "execution_count": null,
      "outputs": []
    },
    {
      "cell_type": "code",
      "source": [
        "X = encoded_df.drop(\"Mood_Swings\", axis = 1)\n",
        "\n",
        "y = encoded_df[\"Mood_Swings\"]\n",
        "y"
      ],
      "metadata": {
        "execution": {
          "iopub.status.busy": "2024-05-07T21:12:05.685835Z",
          "iopub.execute_input": "2024-05-07T21:12:05.686289Z",
          "iopub.status.idle": "2024-05-07T21:12:05.720288Z",
          "shell.execute_reply.started": "2024-05-07T21:12:05.686258Z",
          "shell.execute_reply": "2024-05-07T21:12:05.719009Z"
        },
        "trusted": true,
        "id": "uDGzcePjvnDS"
      },
      "execution_count": null,
      "outputs": []
    },
    {
      "cell_type": "code",
      "source": [
        "X_train, X_test, y_train, y_test = train_test_split(X, y, test_size = 0.2, random_state = 42)\n",
        "\n",
        "print(X_train.shape, X_test.shape)\n",
        "print(y_train.shape, y_test.shape)"
      ],
      "metadata": {
        "execution": {
          "iopub.status.busy": "2024-05-07T21:12:12.005094Z",
          "iopub.execute_input": "2024-05-07T21:12:12.006522Z",
          "iopub.status.idle": "2024-05-07T21:12:12.0807Z",
          "shell.execute_reply.started": "2024-05-07T21:12:12.006471Z",
          "shell.execute_reply": "2024-05-07T21:12:12.079617Z"
        },
        "trusted": true,
        "id": "wEBTV-2YvnDT"
      },
      "execution_count": null,
      "outputs": []
    },
    {
      "cell_type": "code",
      "source": [
        "X_train.shape, y_train.shape"
      ],
      "metadata": {
        "execution": {
          "iopub.status.busy": "2024-05-07T21:16:16.44705Z",
          "iopub.execute_input": "2024-05-07T21:16:16.447671Z",
          "iopub.status.idle": "2024-05-07T21:16:16.456598Z",
          "shell.execute_reply.started": "2024-05-07T21:16:16.447629Z",
          "shell.execute_reply": "2024-05-07T21:16:16.455329Z"
        },
        "trusted": true,
        "id": "Ee_50hSDvnDT"
      },
      "execution_count": null,
      "outputs": []
    },
    {
      "cell_type": "code",
      "source": [
        "X_test.shape, y_test.shape"
      ],
      "metadata": {
        "execution": {
          "iopub.status.busy": "2024-05-07T21:16:32.445475Z",
          "iopub.execute_input": "2024-05-07T21:16:32.445998Z",
          "iopub.status.idle": "2024-05-07T21:16:32.454887Z",
          "shell.execute_reply.started": "2024-05-07T21:16:32.445961Z",
          "shell.execute_reply": "2024-05-07T21:16:32.453311Z"
        },
        "trusted": true,
        "id": "Kv7-OOcBvnDT"
      },
      "execution_count": null,
      "outputs": []
    },
    {
      "cell_type": "code",
      "source": [
        "from sklearn.metrics import (\n",
        "    accuracy_score,\n",
        "    precision_score,\n",
        "    recall_score,\n",
        "    f1_score,\n",
        "    classification_report,\n",
        "    confusion_matrix,\n",
        "    roc_curve,\n",
        "    auc,\n",
        "    RocCurveDisplay,\n",
        ")\n",
        "from sklearn.model_selection import cross_val_score, KFold\n",
        "from sklearn.pipeline import Pipeline\n",
        "from sklearn.tree import DecisionTreeClassifier\n",
        "from sklearn.ensemble import RandomForestClassifier\n",
        "from xgboost import XGBClassifier"
      ],
      "metadata": {
        "execution": {
          "iopub.status.busy": "2024-05-07T21:22:36.246801Z",
          "iopub.execute_input": "2024-05-07T21:22:36.247222Z",
          "iopub.status.idle": "2024-05-07T21:22:36.256854Z",
          "shell.execute_reply.started": "2024-05-07T21:22:36.247181Z",
          "shell.execute_reply": "2024-05-07T21:22:36.255514Z"
        },
        "trusted": true,
        "id": "-e3G9KM0vnDT"
      },
      "execution_count": null,
      "outputs": []
    }
  ]
}